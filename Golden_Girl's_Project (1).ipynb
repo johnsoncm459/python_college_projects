{
 "cells": [
  {
   "cell_type": "code",
   "execution_count": 1,
   "metadata": {},
   "outputs": [],
   "source": [
    "import pandas as pd \n"
   ]
  },
  {
   "cell_type": "code",
   "execution_count": null,
   "metadata": {},
   "outputs": [],
   "source": [
    "df = pd.read_csv('ScoobyDoo.csv')"
   ]
  },
  {
   "cell_type": "code",
   "execution_count": null,
   "metadata": {},
   "outputs": [],
   "source": [
    "print(df.info())"
   ]
  },
  {
   "cell_type": "code",
   "execution_count": null,
   "metadata": {},
   "outputs": [],
   "source": [
    "df['date.aired'] = pd.to_datetime(df['date.aired'])"
   ]
  },
  {
   "cell_type": "code",
   "execution_count": null,
   "metadata": {},
   "outputs": [],
   "source": [
    "motive = df[['motive','culprit.gender','caught.fred','caught.daphnie','caught.velma','caught.shaggy','caught.scooby','captured.fred','captured.daphnie','captured.velma','captured.shaggy','captured.scooby','monster.real','monster.amount','monster.type','monster.species']]\n",
    "motive.info()"
   ]
  },
  {
   "cell_type": "code",
   "execution_count": null,
   "metadata": {},
   "outputs": [],
   "source": [
    "rating = df[['imdb','number.of.snacks','network','season','engagement','date.aired','run.time','format','monster.type','monster.species','monster.amount','monster.real','monster.subtype','caught.not','setting.country/state','non-suspect','motive','if.it.wasnt.for','batman','scooby-dum','scrappy-doo','hex.girls','blue.falcon']]\n",
    "rating.info()"
   ]
  },
  {
   "cell_type": "code",
   "execution_count": null,
   "metadata": {},
   "outputs": [],
   "source": [
    "wordplay = df[['imdb','if.it.wasnt.for','split.up','another.mystery','set.a.trap','jeepers','jinkies','my.glasses','just.about.wrapped.up','zoinks','groovy','scooby.doo.where.are.you','rooby.rooby.roo']]\n",
    "wordplay.info()"
   ]
  },
  {
   "cell_type": "code",
   "execution_count": null,
   "metadata": {},
   "outputs": [],
   "source": [
    "# Regression Model\n",
    "y = rating['imdb']\n",
    "vars = rating[['number.of.snacks','network', 'season', 'engagement' , 'run.time']]\n",
    "vars = sm.add_constant(vars)\n",
    "model = sm.OLS(y,vars).fit()\n",
    "predictions = model.predict(vars)\n",
    "model.summary()"
   ]
  }
 ],
 "metadata": {
  "interpreter": {
   "hash": "bef8ca7d716a30ba31d3494a5d2ea7d68d834962d03c58ee170ad11f24fd3dac"
  },
  "kernelspec": {
   "display_name": "Python 3.9.7 64-bit (conda)",
   "name": "python3"
  },
  "language_info": {
   "codemirror_mode": {
    "name": "ipython",
    "version": 3
   },
   "file_extension": ".py",
   "mimetype": "text/x-python",
   "name": "python",
   "nbconvert_exporter": "python",
   "pygments_lexer": "ipython3",
   "version": "3.8.8"
  },
  "orig_nbformat": 4
 },
 "nbformat": 4,
 "nbformat_minor": 2
}
